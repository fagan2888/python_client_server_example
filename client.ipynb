{
 "metadata": {
  "name": "",
  "signature": "sha256:3c5d520805844b06704925e14033b41a03902d86a4ef5797fef855cfe0794982"
 },
 "nbformat": 3,
 "nbformat_minor": 0,
 "worksheets": [
  {
   "cells": [
    {
     "cell_type": "code",
     "collapsed": false,
     "input": [
      "import pandas as pd\n",
      "\n",
      "CSVNAME = 'nodes.csv'\n",
      "\n",
      "df = pd.read_csv(CSVNAME)"
     ],
     "language": "python",
     "metadata": {},
     "outputs": [],
     "prompt_number": 15
    },
    {
     "cell_type": "code",
     "collapsed": false,
     "input": [
      "import json\n",
      "import time\n",
      "import requests\n",
      "\n",
      "NUMCOLUMNS = 10\n",
      "NUMROWS = 10000\n",
      "\n",
      "data = df[df.columns[:NUMCOLUMNS]].head(NUMROWS).to_json()\n",
      "data=json.dumps(data)\n",
      "print \"Num MBtypes: %.2f\" % (len(data)/1000000.0)\n",
      "headers = {'content-type': 'application/json'}\n",
      "t1 = time.time()\n",
      "resp = requests.put(\"http://localhost:5000/load\", data=data, headers=headers)\n",
      "print \"Time to process: %.2f\" % (time.time()-t1)\n",
      "print \"Status code:\", resp.status_code\n",
      "print \"Response:\", resp.json()"
     ],
     "language": "python",
     "metadata": {},
     "outputs": [
      {
       "output_type": "stream",
       "stream": "stdout",
       "text": [
        "Num MBtypes: 16.03\n",
        "Time to process: 1.62"
       ]
      },
      {
       "output_type": "stream",
       "stream": "stdout",
       "text": [
        "\n",
        "Status code: 200\n",
        "Response: {u'numrecs': 100000}\n"
       ]
      }
     ],
     "prompt_number": 19
    },
    {
     "cell_type": "code",
     "collapsed": false,
     "input": [],
     "language": "python",
     "metadata": {},
     "outputs": [],
     "prompt_number": 48
    },
    {
     "cell_type": "code",
     "collapsed": false,
     "input": [],
     "language": "python",
     "metadata": {},
     "outputs": []
    }
   ],
   "metadata": {}
  }
 ]
}