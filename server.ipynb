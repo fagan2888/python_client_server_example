{
 "metadata": {
  "name": "",
  "signature": "sha256:5792bb30a5b502b71f1ef7cf9d987735933abd5e6412033e8ee514f751483856"
 },
 "nbformat": 3,
 "nbformat_minor": 0,
 "worksheets": [
  {
   "cells": [
    {
     "cell_type": "code",
     "collapsed": false,
     "input": [
      "from flask import Flask, request, jsonify\n",
      "import pandas as pd\n",
      "\n",
      "app = Flask(__name__)\n",
      "\n",
      "@app.route('/load', methods=['PUT'])\n",
      "def load():\n",
      "    df = pd.read_json(request.json)\n",
      "    print len(df)\n",
      "    return jsonify({'numrecs': len(df)})\n",
      "\n",
      "app.run()"
     ],
     "language": "python",
     "metadata": {},
     "outputs": [
      {
       "output_type": "stream",
       "stream": "stderr",
       "text": [
        " * Running on http://127.0.0.1:5000/\n"
       ]
      },
      {
       "output_type": "stream",
       "stream": "stderr",
       "text": [
        "127.0.0.1 - - [11/Jul/2014 10:00:23] \"PUT /load HTTP/1.1\" 200 -\n"
       ]
      },
      {
       "output_type": "stream",
       "stream": "stdout",
       "text": [
        "100000\n"
       ]
      }
     ],
     "prompt_number": 2
    },
    {
     "cell_type": "code",
     "collapsed": false,
     "input": [],
     "language": "python",
     "metadata": {},
     "outputs": [],
     "prompt_number": 0
    },
    {
     "cell_type": "code",
     "collapsed": false,
     "input": [],
     "language": "python",
     "metadata": {},
     "outputs": []
    }
   ],
   "metadata": {}
  }
 ]
}